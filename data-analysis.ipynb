{
 "cells": [
  {
   "cell_type": "markdown",
   "id": "86676047",
   "metadata": {},
   "source": [
    "# SPC Data Analysis\n",
    "\n",
    "---\n",
    "\n",
    "[Alejandro Ciuba](https://alejandrociuba.github.io), alejandrociuba@pitt.edu\n",
    "\n",
    "---"
   ]
  },
  {
   "cell_type": "markdown",
   "id": "25f8e495",
   "metadata": {},
   "source": [
    "## Summary\n",
    "\n",
    "This Jupyter Notebook explores the Semantic Pleonasm Corpus from [this paper](). The goals are:\n",
    "\n",
    "1. General exploration of the corpus, including word counts, quantitative plots, etc.\n",
    "2. Discovery of potential machine-learning features for semantic pleonasm detection.\n",
    "---"
   ]
  },
  {
   "cell_type": "markdown",
   "id": "3ba23f80",
   "metadata": {},
   "source": [
    "## Setup"
   ]
  },
  {
   "cell_type": "markdown",
   "id": "051dc6bc",
   "metadata": {},
   "source": [
    "### Imprts"
   ]
  },
  {
   "cell_type": "code",
   "execution_count": 231,
   "id": "df27091d",
   "metadata": {},
   "outputs": [],
   "source": [
    "from nltk import (\n",
    "    word_tokenize,\n",
    "    FreqDist,\n",
    "    )\n",
    "\n",
    "from nltk.corpus import stopwords\n",
    "from pathlib import Path\n",
    "\n",
    "import pandas as pd\n",
    "import seaborn as sns\n",
    "import string"
   ]
  },
  {
   "cell_type": "markdown",
   "id": "0750ad77",
   "metadata": {},
   "source": [
    "### Globals"
   ]
  },
  {
   "cell_type": "code",
   "execution_count": 232,
   "id": "2e5000ee",
   "metadata": {},
   "outputs": [],
   "source": [
    "SPC = Path(\"./data/SPC/\")\n",
    "data = SPC / \"SPC.json\""
   ]
  },
  {
   "cell_type": "code",
   "execution_count": 233,
   "id": "e2b0f72c",
   "metadata": {},
   "outputs": [],
   "source": [
    "stop_tokens = set(word_tokenize(' '.join(stopwords.words(fileids='english'))))"
   ]
  },
  {
   "cell_type": "markdown",
   "id": "9590e9d0",
   "metadata": {},
   "source": [
    "### Functions"
   ]
  },
  {
   "cell_type": "code",
   "execution_count": 234,
   "id": "53778380",
   "metadata": {},
   "outputs": [],
   "source": [
    "def tokenize(sentence: str) -> list[str]:\n",
    "    return word_tokenize(sentence.strip().lower())"
   ]
  },
  {
   "cell_type": "code",
   "execution_count": 235,
   "id": "b4f4476c",
   "metadata": {},
   "outputs": [],
   "source": [
    "def strip_punct(sentence: str) -> str:\n",
    "    return ''.join(filter(lambda x: x not in string.punctuation, sentence))  # Gotten from GeeksForGeeks\n",
    "    "
   ]
  },
  {
   "cell_type": "code",
   "execution_count": 236,
   "id": "4489ae8b",
   "metadata": {},
   "outputs": [],
   "source": [
    "#  Pleonasm will be UPPER to ensure duplicate words do not conflict with our data analysis\n",
    "# Currently keeping punctuation to help identify parts-of-speech later\n",
    "def full_sentence_tokenize(row: pd.Series) -> list[str]:\n",
    "    before, after, pleonasm = row.before, row.after, row.consensus\n",
    "    return word_tokenize(f\"{before.strip().lower()} {pleonasm.strip().upper()} {after.strip().lower()}\")"
   ]
  },
  {
   "cell_type": "code",
   "execution_count": 237,
   "id": "e4d271a9",
   "metadata": {},
   "outputs": [],
   "source": [
    "# Remove stop words to compare non-pleonasm content words and pleonasm content words\n",
    "# NOTE: This words only on the full_sent column because we kept punctuation like apostrophes\n",
    "def remove_stopwords(tokens: list[str]) -> list[str]:\n",
    "    return list(filter(lambda x: x not in stop_tokens and x not in [\"``\", \"...\"], tokens))"
   ]
  },
  {
   "cell_type": "markdown",
   "id": "a7d2ec03",
   "metadata": {},
   "source": [
    "### Prolog Code"
   ]
  },
  {
   "cell_type": "code",
   "execution_count": 238,
   "id": "1f1c5aa0",
   "metadata": {},
   "outputs": [
    {
     "name": "stdout",
     "output_type": "stream",
     "text": [
      "Pretty printing has been turned OFF\n"
     ]
    }
   ],
   "source": [
    "%pprint  # Disable pretty printing"
   ]
  },
  {
   "cell_type": "code",
   "execution_count": 239,
   "id": "d99abcf8",
   "metadata": {},
   "outputs": [
    {
     "name": "stdout",
     "output_type": "stream",
     "text": [
      "<class 'pandas.core.frame.DataFrame'>\n",
      "RangeIndex: 3019 entries, 0 to 3018\n",
      "Data columns (total 6 columns):\n",
      " #   Column       Non-Null Count  Dtype \n",
      "---  ------       --------------  ----- \n",
      " 0   after        3019 non-null   object\n",
      " 1   consensus    3019 non-null   object\n",
      " 2   second       3019 non-null   object\n",
      " 3   before       3019 non-null   object\n",
      " 4   annotations  3019 non-null   object\n",
      " 5   first        3019 non-null   object\n",
      "dtypes: object(6)\n",
      "memory usage: 141.6+ KB\n"
     ]
    }
   ],
   "source": [
    "df = pd.read_json(data, lines=True)\n",
    "df.info()"
   ]
  },
  {
   "cell_type": "code",
   "execution_count": 240,
   "id": "16e048fa",
   "metadata": {},
   "outputs": [
    {
     "data": {
      "text/html": [
       "<div>\n",
       "<style scoped>\n",
       "    .dataframe tbody tr th:only-of-type {\n",
       "        vertical-align: middle;\n",
       "    }\n",
       "\n",
       "    .dataframe tbody tr th {\n",
       "        vertical-align: top;\n",
       "    }\n",
       "\n",
       "    .dataframe thead th {\n",
       "        text-align: right;\n",
       "    }\n",
       "</style>\n",
       "<table border=\"1\" class=\"dataframe\">\n",
       "  <thead>\n",
       "    <tr style=\"text-align: right;\">\n",
       "      <th></th>\n",
       "      <th>after</th>\n",
       "      <th>consensus</th>\n",
       "      <th>second</th>\n",
       "      <th>before</th>\n",
       "      <th>annotations</th>\n",
       "      <th>first</th>\n",
       "      <th>full_sent</th>\n",
       "      <th>before_count</th>\n",
       "      <th>after_count</th>\n",
       "    </tr>\n",
       "  </thead>\n",
       "  <tbody>\n",
       "    <tr>\n",
       "      <th>0</th>\n",
       "      <td>[can, of, flat, black, krylon]</td>\n",
       "      <td>stinking</td>\n",
       "      <td>stinking</td>\n",
       "      <td>[i, walk, into, lowes, knowing, exactly, what,...</td>\n",
       "      <td>{'A3J2UG22S8BIW4': {'certainty': 'Somewhat cer...</td>\n",
       "      <td>lousy</td>\n",
       "      <td>[i, walk, into, lowes, knowing, exactly, what,...</td>\n",
       "      <td>10</td>\n",
       "      <td>5</td>\n",
       "    </tr>\n",
       "    <tr>\n",
       "      <th>1</th>\n",
       "      <td>[treat]</td>\n",
       "      <td>delectable</td>\n",
       "      <td>delectable</td>\n",
       "      <td>[support, your, local, business, and, be, rewa...</td>\n",
       "      <td>{'A2ESBX4C2Q6TQY': {'certainty': 'Certain', 'e...</td>\n",
       "      <td>yummy</td>\n",
       "      <td>[support, your, local, business, and, be, rewa...</td>\n",
       "      <td>9</td>\n",
       "      <td>1</td>\n",
       "    </tr>\n",
       "    <tr>\n",
       "      <th>2</th>\n",
       "      <td>[thing, i, reflect, upon, the, lack, of, high,...</td>\n",
       "      <td>small</td>\n",
       "      <td>small</td>\n",
       "      <td>[once, i, have, no, more, room, to, taste, eve...</td>\n",
       "      <td>{'A3B7TNVOISSZ2O': {'certainty': 'Certain', 'e...</td>\n",
       "      <td>slightest</td>\n",
       "      <td>[once, i, have, no, more, room, to, taste, eve...</td>\n",
       "      <td>10</td>\n",
       "      <td>12</td>\n",
       "    </tr>\n",
       "    <tr>\n",
       "      <th>3</th>\n",
       "      <td>[process]</td>\n",
       "      <td>check</td>\n",
       "      <td>verification</td>\n",
       "      <td>[they, ve, followed, suit, with, chase, and, n...</td>\n",
       "      <td>{'A2Z750U1HCWVEE': {'certainty': 'Certain', 'e...</td>\n",
       "      <td>check</td>\n",
       "      <td>[they, 've, followed, suit, with, chase, and, ...</td>\n",
       "      <td>14</td>\n",
       "      <td>1</td>\n",
       "    </tr>\n",
       "    <tr>\n",
       "      <th>4</th>\n",
       "      <td>[gelatinous, purees, that, were, finessed, fla...</td>\n",
       "      <td>sick</td>\n",
       "      <td>green</td>\n",
       "      <td>[also, i, thought, some, of, the, plating, had...</td>\n",
       "      <td>{'A2A1FS0KVLJ9ZT': {'certainty': 'Somewhat cer...</td>\n",
       "      <td>sick</td>\n",
       "      <td>[also, i, thought, some, of, the, plating, had...</td>\n",
       "      <td>23</td>\n",
       "      <td>13</td>\n",
       "    </tr>\n",
       "    <tr>\n",
       "      <th>5</th>\n",
       "      <td>[and, happy, to, do, her, job]</td>\n",
       "      <td>cheerful</td>\n",
       "      <td>cheerful</td>\n",
       "      <td>[always]</td>\n",
       "      <td>{'AEWPAZBYA7XE': {'certainty': 'Certain', 'exp...</td>\n",
       "      <td>smiling</td>\n",
       "      <td>[always, CHEERFUL, and, happy, to, do, her, jo...</td>\n",
       "      <td>1</td>\n",
       "      <td>6</td>\n",
       "    </tr>\n",
       "    <tr>\n",
       "      <th>6</th>\n",
       "      <td>[fruit, pulp]</td>\n",
       "      <td>plain</td>\n",
       "      <td>pure</td>\n",
       "      <td>[freshly, squeezed, and, no, additives, just]</td>\n",
       "      <td>{'A1KAGE2AVL6ZGO': {'certainty': 'Somewhat cer...</td>\n",
       "      <td>plain</td>\n",
       "      <td>[freshly, squeezed, and, no, additives, ,, jus...</td>\n",
       "      <td>6</td>\n",
       "      <td>2</td>\n",
       "    </tr>\n",
       "    <tr>\n",
       "      <th>7</th>\n",
       "      <td>[by, there, is, a, movie, theater, which, is, ...</td>\n",
       "      <td>next</td>\n",
       "      <td>close</td>\n",
       "      <td>[fry, s, is]</td>\n",
       "      <td>{'A2OVMADBMBNWFK': {'certainty': 'Certain', 'e...</td>\n",
       "      <td>next</td>\n",
       "      <td>[fry, 's, is, NEXT, by, ,, there, is, a, movie...</td>\n",
       "      <td>3</td>\n",
       "      <td>11</td>\n",
       "    </tr>\n",
       "    <tr>\n",
       "      <th>8</th>\n",
       "      <td>[]</td>\n",
       "      <td>neither</td>\n",
       "      <td>thinking</td>\n",
       "      <td>[restaurants, on, a, saturday, afternoon, and,...</td>\n",
       "      <td>{'A3J2UG22S8BIW4': {'certainty': 'Certain', 'e...</td>\n",
       "      <td>rational</td>\n",
       "      <td>[restaurants, on, a, saturday, afternoon, ,, a...</td>\n",
       "      <td>18</td>\n",
       "      <td>0</td>\n",
       "    </tr>\n",
       "    <tr>\n",
       "      <th>9</th>\n",
       "      <td>[top, shelf]</td>\n",
       "      <td>top</td>\n",
       "      <td>top</td>\n",
       "      <td>[the, beers, here, are, way]</td>\n",
       "      <td>{'A1GYO6CJMVA9ZA': {'certainty': 'Somewhat cer...</td>\n",
       "      <td>upper</td>\n",
       "      <td>[the, beers, here, are, way, TOP, top, shelf, .]</td>\n",
       "      <td>5</td>\n",
       "      <td>2</td>\n",
       "    </tr>\n",
       "  </tbody>\n",
       "</table>\n",
       "</div>"
      ],
      "text/plain": [
       "                                               after   consensus  \\\n",
       "0                     [can, of, flat, black, krylon]    stinking   \n",
       "1                                            [treat]  delectable   \n",
       "2  [thing, i, reflect, upon, the, lack, of, high,...       small   \n",
       "3                                          [process]       check   \n",
       "4  [gelatinous, purees, that, were, finessed, fla...        sick   \n",
       "5                     [and, happy, to, do, her, job]    cheerful   \n",
       "6                                      [fruit, pulp]       plain   \n",
       "7  [by, there, is, a, movie, theater, which, is, ...        next   \n",
       "8                                                 []     neither   \n",
       "9                                       [top, shelf]         top   \n",
       "\n",
       "         second                                             before  \\\n",
       "0      stinking  [i, walk, into, lowes, knowing, exactly, what,...   \n",
       "1    delectable  [support, your, local, business, and, be, rewa...   \n",
       "2         small  [once, i, have, no, more, room, to, taste, eve...   \n",
       "3  verification  [they, ve, followed, suit, with, chase, and, n...   \n",
       "4         green  [also, i, thought, some, of, the, plating, had...   \n",
       "5      cheerful                                           [always]   \n",
       "6          pure      [freshly, squeezed, and, no, additives, just]   \n",
       "7         close                                       [fry, s, is]   \n",
       "8      thinking  [restaurants, on, a, saturday, afternoon, and,...   \n",
       "9           top                       [the, beers, here, are, way]   \n",
       "\n",
       "                                         annotations      first  \\\n",
       "0  {'A3J2UG22S8BIW4': {'certainty': 'Somewhat cer...      lousy   \n",
       "1  {'A2ESBX4C2Q6TQY': {'certainty': 'Certain', 'e...      yummy   \n",
       "2  {'A3B7TNVOISSZ2O': {'certainty': 'Certain', 'e...  slightest   \n",
       "3  {'A2Z750U1HCWVEE': {'certainty': 'Certain', 'e...      check   \n",
       "4  {'A2A1FS0KVLJ9ZT': {'certainty': 'Somewhat cer...       sick   \n",
       "5  {'AEWPAZBYA7XE': {'certainty': 'Certain', 'exp...    smiling   \n",
       "6  {'A1KAGE2AVL6ZGO': {'certainty': 'Somewhat cer...      plain   \n",
       "7  {'A2OVMADBMBNWFK': {'certainty': 'Certain', 'e...       next   \n",
       "8  {'A3J2UG22S8BIW4': {'certainty': 'Certain', 'e...   rational   \n",
       "9  {'A1GYO6CJMVA9ZA': {'certainty': 'Somewhat cer...      upper   \n",
       "\n",
       "                                           full_sent  before_count  \\\n",
       "0  [i, walk, into, lowes, knowing, exactly, what,...            10   \n",
       "1  [support, your, local, business, and, be, rewa...             9   \n",
       "2  [once, i, have, no, more, room, to, taste, eve...            10   \n",
       "3  [they, 've, followed, suit, with, chase, and, ...            14   \n",
       "4  [also, i, thought, some, of, the, plating, had...            23   \n",
       "5  [always, CHEERFUL, and, happy, to, do, her, jo...             1   \n",
       "6  [freshly, squeezed, and, no, additives, ,, jus...             6   \n",
       "7  [fry, 's, is, NEXT, by, ,, there, is, a, movie...             3   \n",
       "8  [restaurants, on, a, saturday, afternoon, ,, a...            18   \n",
       "9   [the, beers, here, are, way, TOP, top, shelf, .]             5   \n",
       "\n",
       "   after_count  \n",
       "0            5  \n",
       "1            1  \n",
       "2           12  \n",
       "3            1  \n",
       "4           13  \n",
       "5            6  \n",
       "6            2  \n",
       "7           11  \n",
       "8            0  \n",
       "9            2  "
      ]
     },
     "execution_count": 240,
     "metadata": {},
     "output_type": "execute_result"
    }
   ],
   "source": [
    "### Preprocessing\n",
    "df['full_sent'] = df.apply(full_sentence_tokenize, axis=1)\n",
    "\n",
    "df.after = df.after.map(strip_punct)\n",
    "df.before = df.before.map(strip_punct)\n",
    "\n",
    "df.after = df.after.map(tokenize)\n",
    "df.before = df.before.map(tokenize)\n",
    "\n",
    "df[\"before_count\"] = df.before.map(len)\n",
    "df[\"after_count\"] = df.after.map(len)\n",
    "\n",
    "df.head(10)"
   ]
  },
  {
   "cell_type": "code",
   "execution_count": 241,
   "id": "fb36458b",
   "metadata": {},
   "outputs": [
    {
     "data": {
      "text/html": [
       "<div>\n",
       "<style scoped>\n",
       "    .dataframe tbody tr th:only-of-type {\n",
       "        vertical-align: middle;\n",
       "    }\n",
       "\n",
       "    .dataframe tbody tr th {\n",
       "        vertical-align: top;\n",
       "    }\n",
       "\n",
       "    .dataframe thead th {\n",
       "        text-align: right;\n",
       "    }\n",
       "</style>\n",
       "<table border=\"1\" class=\"dataframe\">\n",
       "  <thead>\n",
       "    <tr style=\"text-align: right;\">\n",
       "      <th></th>\n",
       "      <th>after</th>\n",
       "      <th>consensus</th>\n",
       "      <th>before</th>\n",
       "      <th>full_sent</th>\n",
       "      <th>before_count</th>\n",
       "      <th>after_count</th>\n",
       "    </tr>\n",
       "  </thead>\n",
       "  <tbody>\n",
       "    <tr>\n",
       "      <th>0</th>\n",
       "      <td>[can, of, flat, black, krylon]</td>\n",
       "      <td>stinking</td>\n",
       "      <td>[i, walk, into, lowes, knowing, exactly, what,...</td>\n",
       "      <td>[i, walk, into, lowes, knowing, exactly, what,...</td>\n",
       "      <td>10</td>\n",
       "      <td>5</td>\n",
       "    </tr>\n",
       "    <tr>\n",
       "      <th>1</th>\n",
       "      <td>[treat]</td>\n",
       "      <td>delectable</td>\n",
       "      <td>[support, your, local, business, and, be, rewa...</td>\n",
       "      <td>[support, your, local, business, and, be, rewa...</td>\n",
       "      <td>9</td>\n",
       "      <td>1</td>\n",
       "    </tr>\n",
       "    <tr>\n",
       "      <th>2</th>\n",
       "      <td>[thing, i, reflect, upon, the, lack, of, high,...</td>\n",
       "      <td>small</td>\n",
       "      <td>[once, i, have, no, more, room, to, taste, eve...</td>\n",
       "      <td>[once, i, have, no, more, room, to, taste, eve...</td>\n",
       "      <td>10</td>\n",
       "      <td>12</td>\n",
       "    </tr>\n",
       "    <tr>\n",
       "      <th>3</th>\n",
       "      <td>[process]</td>\n",
       "      <td>check</td>\n",
       "      <td>[they, ve, followed, suit, with, chase, and, n...</td>\n",
       "      <td>[they, 've, followed, suit, with, chase, and, ...</td>\n",
       "      <td>14</td>\n",
       "      <td>1</td>\n",
       "    </tr>\n",
       "    <tr>\n",
       "      <th>4</th>\n",
       "      <td>[gelatinous, purees, that, were, finessed, fla...</td>\n",
       "      <td>sick</td>\n",
       "      <td>[also, i, thought, some, of, the, plating, had...</td>\n",
       "      <td>[also, i, thought, some, of, the, plating, had...</td>\n",
       "      <td>23</td>\n",
       "      <td>13</td>\n",
       "    </tr>\n",
       "    <tr>\n",
       "      <th>5</th>\n",
       "      <td>[and, happy, to, do, her, job]</td>\n",
       "      <td>cheerful</td>\n",
       "      <td>[always]</td>\n",
       "      <td>[always, CHEERFUL, and, happy, to, do, her, jo...</td>\n",
       "      <td>1</td>\n",
       "      <td>6</td>\n",
       "    </tr>\n",
       "    <tr>\n",
       "      <th>6</th>\n",
       "      <td>[fruit, pulp]</td>\n",
       "      <td>plain</td>\n",
       "      <td>[freshly, squeezed, and, no, additives, just]</td>\n",
       "      <td>[freshly, squeezed, and, no, additives, ,, jus...</td>\n",
       "      <td>6</td>\n",
       "      <td>2</td>\n",
       "    </tr>\n",
       "    <tr>\n",
       "      <th>7</th>\n",
       "      <td>[by, there, is, a, movie, theater, which, is, ...</td>\n",
       "      <td>next</td>\n",
       "      <td>[fry, s, is]</td>\n",
       "      <td>[fry, 's, is, NEXT, by, ,, there, is, a, movie...</td>\n",
       "      <td>3</td>\n",
       "      <td>11</td>\n",
       "    </tr>\n",
       "    <tr>\n",
       "      <th>8</th>\n",
       "      <td>[]</td>\n",
       "      <td>neither</td>\n",
       "      <td>[restaurants, on, a, saturday, afternoon, and,...</td>\n",
       "      <td>[restaurants, on, a, saturday, afternoon, ,, a...</td>\n",
       "      <td>18</td>\n",
       "      <td>0</td>\n",
       "    </tr>\n",
       "    <tr>\n",
       "      <th>9</th>\n",
       "      <td>[top, shelf]</td>\n",
       "      <td>top</td>\n",
       "      <td>[the, beers, here, are, way]</td>\n",
       "      <td>[the, beers, here, are, way, TOP, top, shelf, .]</td>\n",
       "      <td>5</td>\n",
       "      <td>2</td>\n",
       "    </tr>\n",
       "  </tbody>\n",
       "</table>\n",
       "</div>"
      ],
      "text/plain": [
       "                                               after   consensus  \\\n",
       "0                     [can, of, flat, black, krylon]    stinking   \n",
       "1                                            [treat]  delectable   \n",
       "2  [thing, i, reflect, upon, the, lack, of, high,...       small   \n",
       "3                                          [process]       check   \n",
       "4  [gelatinous, purees, that, were, finessed, fla...        sick   \n",
       "5                     [and, happy, to, do, her, job]    cheerful   \n",
       "6                                      [fruit, pulp]       plain   \n",
       "7  [by, there, is, a, movie, theater, which, is, ...        next   \n",
       "8                                                 []     neither   \n",
       "9                                       [top, shelf]         top   \n",
       "\n",
       "                                              before  \\\n",
       "0  [i, walk, into, lowes, knowing, exactly, what,...   \n",
       "1  [support, your, local, business, and, be, rewa...   \n",
       "2  [once, i, have, no, more, room, to, taste, eve...   \n",
       "3  [they, ve, followed, suit, with, chase, and, n...   \n",
       "4  [also, i, thought, some, of, the, plating, had...   \n",
       "5                                           [always]   \n",
       "6      [freshly, squeezed, and, no, additives, just]   \n",
       "7                                       [fry, s, is]   \n",
       "8  [restaurants, on, a, saturday, afternoon, and,...   \n",
       "9                       [the, beers, here, are, way]   \n",
       "\n",
       "                                           full_sent  before_count  \\\n",
       "0  [i, walk, into, lowes, knowing, exactly, what,...            10   \n",
       "1  [support, your, local, business, and, be, rewa...             9   \n",
       "2  [once, i, have, no, more, room, to, taste, eve...            10   \n",
       "3  [they, 've, followed, suit, with, chase, and, ...            14   \n",
       "4  [also, i, thought, some, of, the, plating, had...            23   \n",
       "5  [always, CHEERFUL, and, happy, to, do, her, jo...             1   \n",
       "6  [freshly, squeezed, and, no, additives, ,, jus...             6   \n",
       "7  [fry, 's, is, NEXT, by, ,, there, is, a, movie...             3   \n",
       "8  [restaurants, on, a, saturday, afternoon, ,, a...            18   \n",
       "9   [the, beers, here, are, way, TOP, top, shelf, .]             5   \n",
       "\n",
       "   after_count  \n",
       "0            5  \n",
       "1            1  \n",
       "2           12  \n",
       "3            1  \n",
       "4           13  \n",
       "5            6  \n",
       "6            2  \n",
       "7           11  \n",
       "8            0  \n",
       "9            2  "
      ]
     },
     "execution_count": 241,
     "metadata": {},
     "output_type": "execute_result"
    }
   ],
   "source": [
    "# Focus on the important data\n",
    "df = df.drop(labels=[\"second\", \"first\", \"annotations\"], axis=1)\n",
    "df.head(10)"
   ]
  },
  {
   "cell_type": "markdown",
   "id": "dae720c6",
   "metadata": {},
   "source": [
    "---"
   ]
  },
  {
   "cell_type": "markdown",
   "id": "c2810f77",
   "metadata": {},
   "source": [
    "## 1. General Exploration"
   ]
  },
  {
   "cell_type": "markdown",
   "id": "3af9f11d",
   "metadata": {},
   "source": [
    "### Descriptive Statistics"
   ]
  },
  {
   "cell_type": "code",
   "execution_count": 242,
   "id": "cbfaa452",
   "metadata": {},
   "outputs": [
    {
     "data": {
      "text/html": [
       "<div>\n",
       "<style scoped>\n",
       "    .dataframe tbody tr th:only-of-type {\n",
       "        vertical-align: middle;\n",
       "    }\n",
       "\n",
       "    .dataframe tbody tr th {\n",
       "        vertical-align: top;\n",
       "    }\n",
       "\n",
       "    .dataframe thead th {\n",
       "        text-align: right;\n",
       "    }\n",
       "</style>\n",
       "<table border=\"1\" class=\"dataframe\">\n",
       "  <thead>\n",
       "    <tr style=\"text-align: right;\">\n",
       "      <th></th>\n",
       "      <th>after</th>\n",
       "      <th>consensus</th>\n",
       "      <th>before</th>\n",
       "      <th>full_sent</th>\n",
       "      <th>before_count</th>\n",
       "      <th>after_count</th>\n",
       "    </tr>\n",
       "  </thead>\n",
       "  <tbody>\n",
       "    <tr>\n",
       "      <th>0</th>\n",
       "      <td>[can, of, flat, black, krylon]</td>\n",
       "      <td>stinking</td>\n",
       "      <td>[i, walk, into, lowes, knowing, exactly, what,...</td>\n",
       "      <td>[i, walk, into, lowes, knowing, exactly, what,...</td>\n",
       "      <td>10</td>\n",
       "      <td>5</td>\n",
       "    </tr>\n",
       "    <tr>\n",
       "      <th>1</th>\n",
       "      <td>[treat]</td>\n",
       "      <td>delectable</td>\n",
       "      <td>[support, your, local, business, and, be, rewa...</td>\n",
       "      <td>[support, your, local, business, and, be, rewa...</td>\n",
       "      <td>9</td>\n",
       "      <td>1</td>\n",
       "    </tr>\n",
       "    <tr>\n",
       "      <th>2</th>\n",
       "      <td>[thing, i, reflect, upon, the, lack, of, high,...</td>\n",
       "      <td>small</td>\n",
       "      <td>[once, i, have, no, more, room, to, taste, eve...</td>\n",
       "      <td>[once, i, have, no, more, room, to, taste, eve...</td>\n",
       "      <td>10</td>\n",
       "      <td>12</td>\n",
       "    </tr>\n",
       "    <tr>\n",
       "      <th>3</th>\n",
       "      <td>[process]</td>\n",
       "      <td>check</td>\n",
       "      <td>[they, ve, followed, suit, with, chase, and, n...</td>\n",
       "      <td>[they, 've, followed, suit, with, chase, and, ...</td>\n",
       "      <td>14</td>\n",
       "      <td>1</td>\n",
       "    </tr>\n",
       "    <tr>\n",
       "      <th>4</th>\n",
       "      <td>[gelatinous, purees, that, were, finessed, fla...</td>\n",
       "      <td>sick</td>\n",
       "      <td>[also, i, thought, some, of, the, plating, had...</td>\n",
       "      <td>[also, i, thought, some, of, the, plating, had...</td>\n",
       "      <td>23</td>\n",
       "      <td>13</td>\n",
       "    </tr>\n",
       "    <tr>\n",
       "      <th>5</th>\n",
       "      <td>[and, happy, to, do, her, job]</td>\n",
       "      <td>cheerful</td>\n",
       "      <td>[always]</td>\n",
       "      <td>[always, CHEERFUL, and, happy, to, do, her, jo...</td>\n",
       "      <td>1</td>\n",
       "      <td>6</td>\n",
       "    </tr>\n",
       "    <tr>\n",
       "      <th>6</th>\n",
       "      <td>[fruit, pulp]</td>\n",
       "      <td>plain</td>\n",
       "      <td>[freshly, squeezed, and, no, additives, just]</td>\n",
       "      <td>[freshly, squeezed, and, no, additives, ,, jus...</td>\n",
       "      <td>6</td>\n",
       "      <td>2</td>\n",
       "    </tr>\n",
       "    <tr>\n",
       "      <th>7</th>\n",
       "      <td>[by, there, is, a, movie, theater, which, is, ...</td>\n",
       "      <td>next</td>\n",
       "      <td>[fry, s, is]</td>\n",
       "      <td>[fry, 's, is, NEXT, by, ,, there, is, a, movie...</td>\n",
       "      <td>3</td>\n",
       "      <td>11</td>\n",
       "    </tr>\n",
       "    <tr>\n",
       "      <th>8</th>\n",
       "      <td>[]</td>\n",
       "      <td>neither</td>\n",
       "      <td>[restaurants, on, a, saturday, afternoon, and,...</td>\n",
       "      <td>[restaurants, on, a, saturday, afternoon, ,, a...</td>\n",
       "      <td>18</td>\n",
       "      <td>0</td>\n",
       "    </tr>\n",
       "    <tr>\n",
       "      <th>9</th>\n",
       "      <td>[top, shelf]</td>\n",
       "      <td>top</td>\n",
       "      <td>[the, beers, here, are, way]</td>\n",
       "      <td>[the, beers, here, are, way, TOP, top, shelf, .]</td>\n",
       "      <td>5</td>\n",
       "      <td>2</td>\n",
       "    </tr>\n",
       "  </tbody>\n",
       "</table>\n",
       "</div>"
      ],
      "text/plain": [
       "                                               after   consensus  \\\n",
       "0                     [can, of, flat, black, krylon]    stinking   \n",
       "1                                            [treat]  delectable   \n",
       "2  [thing, i, reflect, upon, the, lack, of, high,...       small   \n",
       "3                                          [process]       check   \n",
       "4  [gelatinous, purees, that, were, finessed, fla...        sick   \n",
       "5                     [and, happy, to, do, her, job]    cheerful   \n",
       "6                                      [fruit, pulp]       plain   \n",
       "7  [by, there, is, a, movie, theater, which, is, ...        next   \n",
       "8                                                 []     neither   \n",
       "9                                       [top, shelf]         top   \n",
       "\n",
       "                                              before  \\\n",
       "0  [i, walk, into, lowes, knowing, exactly, what,...   \n",
       "1  [support, your, local, business, and, be, rewa...   \n",
       "2  [once, i, have, no, more, room, to, taste, eve...   \n",
       "3  [they, ve, followed, suit, with, chase, and, n...   \n",
       "4  [also, i, thought, some, of, the, plating, had...   \n",
       "5                                           [always]   \n",
       "6      [freshly, squeezed, and, no, additives, just]   \n",
       "7                                       [fry, s, is]   \n",
       "8  [restaurants, on, a, saturday, afternoon, and,...   \n",
       "9                       [the, beers, here, are, way]   \n",
       "\n",
       "                                           full_sent  before_count  \\\n",
       "0  [i, walk, into, lowes, knowing, exactly, what,...            10   \n",
       "1  [support, your, local, business, and, be, rewa...             9   \n",
       "2  [once, i, have, no, more, room, to, taste, eve...            10   \n",
       "3  [they, 've, followed, suit, with, chase, and, ...            14   \n",
       "4  [also, i, thought, some, of, the, plating, had...            23   \n",
       "5  [always, CHEERFUL, and, happy, to, do, her, jo...             1   \n",
       "6  [freshly, squeezed, and, no, additives, ,, jus...             6   \n",
       "7  [fry, 's, is, NEXT, by, ,, there, is, a, movie...             3   \n",
       "8  [restaurants, on, a, saturday, afternoon, ,, a...            18   \n",
       "9   [the, beers, here, are, way, TOP, top, shelf, .]             5   \n",
       "\n",
       "   after_count  \n",
       "0            5  \n",
       "1            1  \n",
       "2           12  \n",
       "3            1  \n",
       "4           13  \n",
       "5            6  \n",
       "6            2  \n",
       "7           11  \n",
       "8            0  \n",
       "9            2  "
      ]
     },
     "execution_count": 242,
     "metadata": {},
     "output_type": "execute_result"
    }
   ],
   "source": [
    "df.head(10)"
   ]
  },
  {
   "cell_type": "code",
   "execution_count": 243,
   "id": "7baf4867",
   "metadata": {},
   "outputs": [
    {
     "data": {
      "text/html": [
       "<div>\n",
       "<style scoped>\n",
       "    .dataframe tbody tr th:only-of-type {\n",
       "        vertical-align: middle;\n",
       "    }\n",
       "\n",
       "    .dataframe tbody tr th {\n",
       "        vertical-align: top;\n",
       "    }\n",
       "\n",
       "    .dataframe thead th {\n",
       "        text-align: right;\n",
       "    }\n",
       "</style>\n",
       "<table border=\"1\" class=\"dataframe\">\n",
       "  <thead>\n",
       "    <tr style=\"text-align: right;\">\n",
       "      <th></th>\n",
       "      <th>count</th>\n",
       "      <th>mean</th>\n",
       "      <th>std</th>\n",
       "      <th>min</th>\n",
       "      <th>25%</th>\n",
       "      <th>50%</th>\n",
       "      <th>75%</th>\n",
       "      <th>max</th>\n",
       "    </tr>\n",
       "  </thead>\n",
       "  <tbody>\n",
       "    <tr>\n",
       "      <th>before_count</th>\n",
       "      <td>3019.0</td>\n",
       "      <td>11.366678</td>\n",
       "      <td>8.785853</td>\n",
       "      <td>0.0</td>\n",
       "      <td>5.0</td>\n",
       "      <td>9.0</td>\n",
       "      <td>16.0</td>\n",
       "      <td>77.0</td>\n",
       "    </tr>\n",
       "    <tr>\n",
       "      <th>after_count</th>\n",
       "      <td>3019.0</td>\n",
       "      <td>8.776747</td>\n",
       "      <td>8.441659</td>\n",
       "      <td>0.0</td>\n",
       "      <td>2.0</td>\n",
       "      <td>7.0</td>\n",
       "      <td>12.0</td>\n",
       "      <td>67.0</td>\n",
       "    </tr>\n",
       "  </tbody>\n",
       "</table>\n",
       "</div>"
      ],
      "text/plain": [
       "               count       mean       std  min  25%  50%   75%   max\n",
       "before_count  3019.0  11.366678  8.785853  0.0  5.0  9.0  16.0  77.0\n",
       "after_count   3019.0   8.776747  8.441659  0.0  2.0  7.0  12.0  67.0"
      ]
     },
     "execution_count": 243,
     "metadata": {},
     "output_type": "execute_result"
    }
   ],
   "source": [
    "df[[\"before_count\", \"after_count\"]].describe().T"
   ]
  },
  {
   "cell_type": "code",
   "execution_count": 244,
   "id": "d6622090",
   "metadata": {},
   "outputs": [
    {
     "data": {
      "text/plain": [
       "<Axes: xlabel='before_count', ylabel='Count'>"
      ]
     },
     "execution_count": 244,
     "metadata": {},
     "output_type": "execute_result"
    },
    {
     "data": {
      "image/png": "[encoded data removed]",
      "text/plain": [
       "<Figure size 640x480 with 1 Axes>"
      ]
     },
     "metadata": {},
     "output_type": "display_data"
    }
   ],
   "source": [
    "sns.histplot(df, x='before_count')"
   ]
  },
  {
   "cell_type": "code",
   "execution_count": 245,
   "id": "e649a159",
   "metadata": {},
   "outputs": [
    {
     "data": {
      "text/plain": [
       "<Axes: xlabel='after_count', ylabel='Count'>"
      ]
     },
     "execution_count": 245,
     "metadata": {},
     "output_type": "execute_result"
    },
    {
     "data": {
      "image/png": "[encoded data removed]",
      "text/plain": [
       "<Figure size 640x480 with 1 Axes>"
      ]
     },
     "metadata": {},
     "output_type": "display_data"
    }
   ],
   "source": [
    "sns.histplot(df, x='after_count')"
   ]
  },
  {
   "cell_type": "markdown",
   "id": "4dd1be51",
   "metadata": {},
   "source": [
    "### Most Common Pleonasms"
   ]
  },
  {
   "cell_type": "code",
   "execution_count": 246,
   "id": "1d082e65",
   "metadata": {},
   "outputs": [
    {
     "data": {
      "text/plain": [
       "consensus\n",
       "neither    1283\n",
       "both         16\n",
       "small        16\n",
       "little       16\n",
       "big          14\n",
       "large        12\n",
       "soft          9\n",
       "young         8\n",
       "bad           8\n",
       "dirty         8\n",
       "Name: count, dtype: int64"
      ]
     },
     "execution_count": 246,
     "metadata": {},
     "output_type": "execute_result"
    }
   ],
   "source": [
    "df.consensus.value_counts().head(10)"
   ]
  },
  {
   "cell_type": "markdown",
   "id": "3dd9a1f6",
   "metadata": {},
   "source": [
    "#### Pleonasms Vs. General Content Words"
   ]
  },
  {
   "cell_type": "code",
   "execution_count": 247,
   "id": "ace23157",
   "metadata": {},
   "outputs": [
    {
     "data": {
      "text/plain": [
       "[('like', 269), ('place', 216), ('one', 183), ('food', 169), ('get', 167), ('good', 137), ('time', 134), ('really', 116), ('people', 116), ('service', 114)]"
      ]
     },
     "execution_count": 247,
     "metadata": {},
     "output_type": "execute_result"
    }
   ],
   "source": [
    "content_words = FreqDist([tok for toks in df.full_sent.to_list() for tok in remove_stopwords(toks) if tok.lower() == tok and tok not in string.punctuation])\n",
    "content_words.most_common(10)"
   ]
  }
 ],
 "metadata": {
  "kernelspec": {
   "display_name": "deep_learning",
   "language": "python",
   "name": "python3"
  },
  "language_info": {
   "codemirror_mode": {
    "name": "ipython",
    "version": 3
   },
   "file_extension": ".py",
   "mimetype": "text/x-python",
   "name": "python",
   "nbconvert_exporter": "python",
   "pygments_lexer": "ipython3",
   "version": "3.11.4"
  }
 },
 "nbformat": 4,
 "nbformat_minor": 5
}
