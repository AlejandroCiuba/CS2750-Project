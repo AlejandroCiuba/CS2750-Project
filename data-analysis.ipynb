{
 "cells": [
  {
   "cell_type": "markdown",
   "id": "86676047",
   "metadata": {},
   "source": [
    "# SPC Data Analysis\n",
    "\n",
    "---\n",
    "\n",
    "[Alejandro Ciuba](https://alejandrociuba.github.io), alejandrociuba@pitt.edu\n",
    "\n",
    "---"
   ]
  },
  {
   "cell_type": "markdown",
   "id": "25f8e495",
   "metadata": {},
   "source": [
    "## Summary\n",
    "\n",
    "This Jupyter Notebook explores the Semantic Pleonasm Corpus from [this paper](). The goals are:\n",
    "\n",
    "1. General exploration of the corpus, including word counts, quantitative plots, etc.\n",
    "2. Discovery of potential machine-learning features for semantic pleonasm detection."
   ]
  }
 ],
 "metadata": {
  "language_info": {
   "name": "python"
  }
 },
 "nbformat": 4,
 "nbformat_minor": 5
}
